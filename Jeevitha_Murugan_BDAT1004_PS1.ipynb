{
 "cells": [
  {
   "cell_type": "markdown",
   "id": "caa7b1f6",
   "metadata": {},
   "source": [
    "# Question 1\n",
    "What data type is each of the following (evaluate where necessary)?\n",
    "5\n",
    "5.0\n",
    "5>1\n",
    "'5'\n",
    "5*2\n",
    "'5' * 2\n",
    "'5' + '2'\n",
    "5/2\n",
    "5%2\n",
    "{5, 2, 1}\n",
    "5 == 3\n",
    "Pi (the number)"
   ]
  },
  {
   "cell_type": "code",
   "execution_count": 1,
   "id": "1bb35e78",
   "metadata": {},
   "outputs": [
    {
     "name": "stdout",
     "output_type": "stream",
     "text": [
      "<class 'int'>\n",
      "<class 'float'>\n",
      "<class 'bool'>\n",
      "<class 'str'>\n",
      "<class 'int'>\n",
      "<class 'str'>\n",
      "<class 'str'>\n",
      "<class 'float'>\n",
      "<class 'int'>\n",
      "<class 'set'>\n",
      "<class 'bool'>\n",
      "<class 'float'>\n"
     ]
    }
   ],
   "source": [
    "import math \n",
    "print(type(5))\n",
    "print(type(5.0))\n",
    "print(type(5>1))\n",
    "print(type('5'))\n",
    "print(type(5*2))\n",
    "print(type('5' * 2))\n",
    "print(type('5' + '2'))\n",
    "print(type(5/2))\n",
    "print(type(5%2))\n",
    "print(type({5, 2, 1}))\n",
    "print(type(5 == 3))\n",
    "print(type(math.pi))"
   ]
  },
  {
   "cell_type": "markdown",
   "id": "e43e60d3",
   "metadata": {},
   "source": [
    "# Question 2\n",
    "Write (and evaluate) python expressions that answer these questions:\n",
    "a. How many letters are there in 'Supercalifragilisticexpialidocious'?\n",
    "b. Does 'Supercalifragilisticexpialidocious' contain 'ice' as a substring?\n",
    "c. Which of the following words is the longest: Supercalifragilisticexpialidocious, Honorificabilitudinitatibus, or Bababadalgharaghtakamminarronnkonn?\n",
    "d. Which composer comes first in the dictionary: 'Berlioz', 'Borodin', 'Brian', 'Bartok', 'Bellini', 'Buxtehude', 'Bernstein'. Which one comes last?"
   ]
  },
  {
   "cell_type": "code",
   "execution_count": 2,
   "id": "2c707f34",
   "metadata": {},
   "outputs": [
    {
     "name": "stdout",
     "output_type": "stream",
     "text": [
      "34\n"
     ]
    }
   ],
   "source": [
    "print(len('Supercalifragilisticexpialidocious'))"
   ]
  },
  {
   "cell_type": "code",
   "execution_count": 3,
   "id": "63437d0a",
   "metadata": {},
   "outputs": [
    {
     "name": "stdout",
     "output_type": "stream",
     "text": [
      "True\n"
     ]
    }
   ],
   "source": [
    "print(\"ice\" in 'Supercalifragilisticexpialidocious')"
   ]
  },
  {
   "cell_type": "code",
   "execution_count": 4,
   "id": "dce2a706",
   "metadata": {},
   "outputs": [
    {
     "name": "stdout",
     "output_type": "stream",
     "text": [
      "Supercalifragilisticexpialidocious\n"
     ]
    }
   ],
   "source": [
    "lst=['Supercalifragilisticexpialidocious','Honorificabilitudinitatibus','Bababadalgharaghtakamminarronnkonn']\n",
    "print(max(lst,key=len))"
   ]
  },
  {
   "cell_type": "code",
   "execution_count": 5,
   "id": "1f0f39fc",
   "metadata": {},
   "outputs": [
    {
     "name": "stdout",
     "output_type": "stream",
     "text": [
      "['Bartok', 'Bellini', 'Berlioz', 'Bernstein', 'Borodin', 'Brian', 'Buxtehude']\n",
      "Bartok\n",
      "Buxtehude\n"
     ]
    }
   ],
   "source": [
    "composer = ['Berlioz', 'Borodin', 'Brian', 'Bartok', 'Bellini', 'Buxtehude', 'Bernstein']\n",
    "composer.sort()\n",
    "print(composer)\n",
    "print(composer[0])\n",
    "print(composer[-1])"
   ]
  },
  {
   "cell_type": "markdown",
   "id": "7e9d6cef",
   "metadata": {},
   "source": [
    "# Question 3\n",
    "Implement function triangleArea(a,b,c) that takes as input the lengths of the 3 sides of a triangle and returns the area of the triangle. By Heron's formula, the area of a triangle with side lengths a, b, and c is square root of (s(s-a)(s-b)(s-c)), where s=(a+b+c)/2.\n",
    ">>> triangleArea(2,2,2)\n",
    "1.7320508075688772"
   ]
  },
  {
   "cell_type": "code",
   "execution_count": 6,
   "id": "de3da2ac",
   "metadata": {},
   "outputs": [
    {
     "name": "stdout",
     "output_type": "stream",
     "text": [
      "Enter Side a Length:2\n",
      "Enter Side b Length:2\n",
      "Enter Side c Length:2\n",
      "Are of a triangle is :1.7320508075688772\n"
     ]
    }
   ],
   "source": [
    "def triangleArea(a,b,c):\n",
    "    s=(a+b+c)/2;\n",
    "    area = (s*(s-a)*(s-b)*(s-c)) ** 0.5\n",
    "    return area\n",
    "\n",
    "a = int(input(\"Enter Side a Length:\" ))\n",
    "b = int(input(\"Enter Side b Length:\" ))\n",
    "c = int(input(\"Enter Side c Length:\" ))\n",
    "area = triangleArea(a,b,c)\n",
    "print(f\"Are of a triangle is :{area}\")"
   ]
  },
  {
   "cell_type": "markdown",
   "id": "33509ffb",
   "metadata": {},
   "source": [
    "# Question 4\n",
    "Write a program in python to separate odd and even integers in separate arrays. Go to the editor\n",
    "Test Data :\n",
    "Input the number of elements to be stored in the array :5\n",
    "Input 5 elements in the array : element - 0 : 25\n",
    "element - 1 : 47\n",
    "element - 2 : 42\n",
    "element - 3 : 56 element - 4 : 32 Expected Output:\n",
    "The Even elements are: 42 56 32\n",
    "The Odd elements are : 25 47"
   ]
  },
  {
   "cell_type": "code",
   "execution_count": 8,
   "id": "984f97de",
   "metadata": {},
   "outputs": [
    {
     "name": "stdout",
     "output_type": "stream",
     "text": [
      "Input the numbr of elements to be stored in the array: 5\n",
      "element - 0 : 25\n",
      "element - 1 : 47\n",
      "element - 2 : 42\n",
      "element - 3 : 56\n",
      "element - 4 : 32\n",
      "The Even elements are: [42, 56, 32]\n",
      "The Odd elements are: [25, 47]\n"
     ]
    }
   ],
   "source": [
    "def printEvenOdd(lst):\n",
    "    oddLst=[]\n",
    "    evenLst=[]\n",
    "    for item in lst:\n",
    "        if item%2 == 0:\n",
    "            evenLst.append(item)\n",
    "        else:\n",
    "            oddLst.append(item)\n",
    "    print(f\"The Even elements are: {evenLst}\")\n",
    "    print(f\"The Odd elements are: {oddLst}\")\n",
    "\n",
    "arrayLen = int(input(\"Input the numbr of elements to be stored in the array: \"))\n",
    "elements =[]\n",
    "for i in range(arrayLen):\n",
    "    x = int(input(f\"element - {i} : \"))\n",
    "    elements.append(x)\n",
    "printEvenOdd(elements)\n",
    "    \n",
    "        "
   ]
  },
  {
   "cell_type": "markdown",
   "id": "09ee5428",
   "metadata": {},
   "source": [
    "# Question 5\n",
    "a. Write a function inside(x,y,x1,y1,x2,y2) that returns True or False depending on whether the point (x,y) lies in the rectangle with lower left corner (x1,y1) and upper right corner (x2,y2).\n",
    "     >>> inside(1,1,0,0,2,3)\n",
    "     True\n",
    "     >>> inside(-1,-1,0,0,2,3)\n",
    "     False\n",
    "b. Use function inside() from part a. to write an expression that tests whether the point (1,1) lies in both of the following rectangles: one with lower left corner (0.3, 0.5) and upper right corner (1.1, 0.7) and the other with lower left corner (0.5, 0.2) and upper right corner (1.1, 2)."
   ]
  },
  {
   "cell_type": "code",
   "execution_count": 9,
   "id": "0a2a8d57",
   "metadata": {},
   "outputs": [
    {
     "name": "stdout",
     "output_type": "stream",
     "text": [
      "Enter x: 1\n",
      "Enter y: 1\n",
      "Enter x1: 0\n",
      "Enter y1: 0\n",
      "Enter x2: 2\n",
      "Enter y2: 3\n",
      "\n",
      "\n",
      "True\n",
      " \n",
      " \n",
      "the point( 1 , 1 ) do not lie between the set of points (0.3, 0.5, 1.1, 0.7) and the set of points (0.5, 0.2, 1.1, 2)\n"
     ]
    }
   ],
   "source": [
    "def inside(x, y, x1, y1, x2, y2):\n",
    "    if x >= x1 and x <= x2 and y >= y1 and y <= y2:\n",
    "        return True\n",
    "    else:\n",
    "        return False\n",
    "    \n",
    "x = float(input(\"Enter x: \"))\n",
    "y = float(input(\"Enter y: \"))\n",
    "x1 = float(input(\"Enter x1: \"))\n",
    "y1 = float(input(\"Enter y1: \"))\n",
    "x2 = float(input(\"Enter x2: \"))\n",
    "y2 = float(input(\"Enter y2: \"))\n",
    "\n",
    "print(\"\\n\")\n",
    "print(inside(x, y, x1, y1, x2, y2))\n",
    "print(\" \")\n",
    "point = (1, 1)\n",
    "print(\" \")\n",
    "rectangle1 = (0.3, 0.5, 1.1, 0.7)\n",
    "rectangle2 = (0.5, 0.2, 1.1, 2)\n",
    "\n",
    "check_rectangle1 = inside(point[0], point[1], rectangle1[0], rectangle1[1], rectangle1[2], rectangle1[3])\n",
    "check_rectangle2 = inside(point[0], point[1], rectangle2[0], rectangle2[1], rectangle2[2], rectangle2[3])\n",
    "\n",
    "if check_rectangle1 == check_rectangle2:\n",
    "        print(\"the point(\",point[0],\",\",point[1],\") lies between the set of points (0.3, 0.5, 1.1, 0.7) and the set of points (0.5, 0.2, 1.1, 2)\")\n",
    "else: \n",
    "        print(\"the point(\",point[0],\",\",point[1],\") do not lie between the set of points (0.3, 0.5, 1.1, 0.7) and the set of points (0.5, 0.2, 1.1, 2)\")\n"
   ]
  },
  {
   "cell_type": "markdown",
   "id": "7b930644",
   "metadata": {},
   "source": [
    "# Question 6\n",
    "16. You can turn a word into pig-Latin using the following two rules (simplified):\n",
    "• If the word starts with a consonant, move that letter to the end and append\n",
    "'ay'. For example, 'happy' becomes 'appyhay' and 'pencil' becomes 'encilpay'.\n",
    "• If the word starts with a vowel, simply append 'way' to the end of the word.\n",
    "For example, 'enter' becomes 'enterway' and 'other' becomes 'otherway' . For\n",
    "our purposes, there are 5 vowels: a, e, i, o, u (so we count y as a consonant). Write a function pig() that takes a word (i.e., a string) as input and returns its pig- Latin form. Your function should still work if the input word contains upper case characters. Your output should always be lower case however.\n",
    ">>> pig('happy')\n",
    "'appyhay'\n",
    ">>> pig('Enter')\n",
    "'enterway'"
   ]
  },
  {
   "cell_type": "code",
   "execution_count": 10,
   "id": "e4ee8aa6",
   "metadata": {},
   "outputs": [
    {
     "name": "stdout",
     "output_type": "stream",
     "text": [
      "Enter your word: happy\n",
      "The pig_latin word for  happy  is  appyhay\n"
     ]
    }
   ],
   "source": [
    "def pig(word_check):\n",
    "    vowels = ['a', 'e', 'i', 'o', 'u']\n",
    "    word_check = word_check.lower()\n",
    "    \n",
    "    if word_check[0] in vowels:\n",
    "       \n",
    "        pig_latin_word = word_check + 'way'\n",
    "    else:\n",
    "        pig_latin_word = word_check[1:] + word_check[0] + 'ay'\n",
    "    \n",
    "    return pig_latin_word\n",
    "\n",
    "input_word = str(input(\"Enter your word: \"))\n",
    "\n",
    "print(\"The pig_latin word for \",input_word,\" is \",pig(input_word))"
   ]
  },
  {
   "cell_type": "markdown",
   "id": "68dae926",
   "metadata": {},
   "source": [
    "# Question 7\n",
    "File bloodtype1.txt records blood-types of patients (A, B, AB, O or OO) at a clinic. Write a function bldcount() that reads the file with name name and reports (i.e., prints) how many patients there are in each bloodtype.\n",
    ">>> bldcount('bloodtype.txt')\n",
    "There are 10 patients of blood type A. There is one patient of blood type B. There are 10 patients of blood type AB. There are 12 patients of blood type O. There are no patients of blood type OO."
   ]
  },
  {
   "cell_type": "code",
   "execution_count": 16,
   "id": "4f24f011",
   "metadata": {},
   "outputs": [
    {
     "name": "stdout",
     "output_type": "stream",
     "text": [
      "There are 15 patients of blood type A.\n",
      "There is one patients of blood type B.\n",
      "There are 13 patients of blood type AB.\n",
      "There are 15 patients of blood type O.\n",
      "There are 0 patients of blood type OO.\n"
     ]
    }
   ],
   "source": [
    "def bldcount(fileName):\n",
    "    blood_count = {'A': 0, 'B': 0, 'AB': 0, 'O': 0, 'OO': 0}\n",
    "    file_data = open('bloodtype1.txt','r')\n",
    "    blood_type = file_data.read().split()\n",
    "    for bt in blood_type:\n",
    "        if bt in blood_count:\n",
    "            blood_count[bt] += 1\n",
    "    for blood_type in blood_count:\n",
    "        if blood_count[blood_type] == 1:\n",
    "            print(f\"There is one patients of blood type {blood_type}.\")\n",
    "        else:\n",
    "            print(f\"There are {blood_count[blood_type]} patients of blood type {blood_type}.\")\n",
    "bldcount('bloodgrp.txt')\n",
    "    "
   ]
  },
  {
   "cell_type": "markdown",
   "id": "f3862ab3",
   "metadata": {},
   "source": [
    "# Question 8\n",
    "Write a function curconv() that takes as input:\n",
    "1. a currency represented using a string (e.g., 'JPY' for the Japanese Yen or 'EUR' for the Euro)\n",
    "2. an amount\n",
    "and then converts and returns the amount in US dollars.\n",
    ">>> curconv('EUR', 100)\n",
    "122.96544\n",
    ">>> curconv('JPY', 100)\n",
    "1.241401\n",
    "The currency rates you will need are stored in file currencies.txt:\n",
    "AUD 1.0345157 Australian Dollar \n",
    "CHF 1.0237414 Swiss Franc\n",
    "CNY 0.1550176 Chinese Yuan\n",
    "DKK 0.1651442 Danish Krone \n",
    "EUR 1.2296544 Euro\n",
    "GBP 1.5550989 British Pound \n",
    "HKD 0.1270207 Hong Kong Dollar \n",
    "INR 0.0177643 Indian Rupee \n",
    "JPY 0.01241401 JapaneseYen\n",
    "MXN 0.0751848 Mexican Peso\n",
    "MYR 0.3145411 Malaysian Ringgit\n",
    "NOK 0.1677063 Norwegian Krone\n",
    "NZD 0.8003591 New Zealand Dollar\n",
    "PHP 0.0233234 Philippine Peso\n",
    "SEK 0.148269 Swedish Krona\n",
    "SGD 0.788871 Singapore Dollar\n",
    "THB 0.0313789 Thai Baht"
   ]
  },
  {
   "cell_type": "code",
   "execution_count": 25,
   "id": "5861f14c",
   "metadata": {},
   "outputs": [
    {
     "name": "stdout",
     "output_type": "stream",
     "text": [
      "Enter Currency Code:JPY\n",
      "Enter the amount to be converted:100\n",
      "100.0 JPY is equivalent to 1.241401 US dollars.\n"
     ]
    }
   ],
   "source": [
    "def curconv(currency_code,amount):\n",
    "    try:\n",
    "        file_data = open('currencies.txt','r')\n",
    "        converted_amount = float(-1)\n",
    "        for line in file_data:\n",
    "            currency = line.split()\n",
    "            if currency[0] == currency_code:\n",
    "                exchange_rate = float(currency[1])\n",
    "                converted_amount = amount * exchange_rate\n",
    "        return converted_amount\n",
    "    except FileNotFoundError:\n",
    "        print(\"The specified file does not exist.\")\n",
    "\n",
    "    except Exception as e:\n",
    "        print(\"An error occurred:\", str(e)) \n",
    "       \n",
    "currencyCode = input(\"Enter Currency Code:\")\n",
    "amount = float(input(\"Enter the amount to be converted:\"))\n",
    "converted_amount = curconv(currencyCode,amount)\n",
    "if converted_amount == -1:\n",
    "    print(\"InValid Currency Code.\")\n",
    "elif converted_amount == None:\n",
    "    print(\"Conversion failed.\")\n",
    "else:\n",
    "    print(f\"{amount} {currencyCode} is equivalent to {converted_amount} US dollars.\")"
   ]
  },
  {
   "cell_type": "markdown",
   "id": "3e990619",
   "metadata": {},
   "source": [
    "# Question 9\n",
    "Each of the following will cause an exception (an error). Identify what type of exception each will cause.\n",
    "\n",
    "Trying to add incompatible variables, as in adding 6 + ‘a’\n",
    "Referring to the 12th item of a list that has only 10 items\n",
    "Using a value that is out of range for a function’s input, such as calling math.sqrt(-1.0)\n",
    "Using an undeclared variable, such as print(x) when x has not been defined\n",
    "Trying to open a file that does not exist, such as mistyping the file name or looking in the wrong directory."
   ]
  },
  {
   "cell_type": "code",
   "execution_count": 26,
   "id": "3a7c0067",
   "metadata": {},
   "outputs": [
    {
     "ename": "NameError",
     "evalue": "name 'Print' is not defined",
     "output_type": "error",
     "traceback": [
      "\u001b[0;31m---------------------------------------------------------------------------\u001b[0m",
      "\u001b[0;31mNameError\u001b[0m                                 Traceback (most recent call last)",
      "Cell \u001b[0;32mIn[26], line 1\u001b[0m\n\u001b[0;32m----> 1\u001b[0m \u001b[43mPrint\u001b[49m(\u001b[38;5;241m6\u001b[39m\u001b[38;5;241m+\u001b[39m\u001b[38;5;124m'\u001b[39m\u001b[38;5;124ma\u001b[39m\u001b[38;5;124m'\u001b[39m)\n",
      "\u001b[0;31mNameError\u001b[0m: name 'Print' is not defined"
     ]
    }
   ],
   "source": [
    "Print(6+'a')"
   ]
  },
  {
   "cell_type": "code",
   "execution_count": 27,
   "id": "8b30b1f2",
   "metadata": {},
   "outputs": [
    {
     "ename": "IndexError",
     "evalue": "list index out of range",
     "output_type": "error",
     "traceback": [
      "\u001b[0;31m---------------------------------------------------------------------------\u001b[0m",
      "\u001b[0;31mIndexError\u001b[0m                                Traceback (most recent call last)",
      "Cell \u001b[0;32mIn[27], line 2\u001b[0m\n\u001b[1;32m      1\u001b[0m array \u001b[38;5;241m=\u001b[39m [\u001b[38;5;241m0\u001b[39m,\u001b[38;5;241m1\u001b[39m,\u001b[38;5;241m2\u001b[39m,\u001b[38;5;241m3\u001b[39m,\u001b[38;5;241m4\u001b[39m,\u001b[38;5;241m5\u001b[39m,\u001b[38;5;241m6\u001b[39m,\u001b[38;5;241m7\u001b[39m,\u001b[38;5;241m8\u001b[39m,\u001b[38;5;241m9\u001b[39m]\n\u001b[0;32m----> 2\u001b[0m \u001b[38;5;28mprint\u001b[39m(\u001b[43marray\u001b[49m\u001b[43m[\u001b[49m\u001b[38;5;241;43m12\u001b[39;49m\u001b[43m]\u001b[49m)\n",
      "\u001b[0;31mIndexError\u001b[0m: list index out of range"
     ]
    }
   ],
   "source": [
    "array = [0,1,2,3,4,5,6,7,8,9]\n",
    "print(array[12])"
   ]
  },
  {
   "cell_type": "code",
   "execution_count": 28,
   "id": "6d8fa6f7",
   "metadata": {},
   "outputs": [
    {
     "name": "stdout",
     "output_type": "stream",
     "text": [
      "Enter any negative number: -1.0\n"
     ]
    },
    {
     "ename": "ValueError",
     "evalue": "invalid literal for int() with base 10: '-1.0'",
     "output_type": "error",
     "traceback": [
      "\u001b[0;31m---------------------------------------------------------------------------\u001b[0m",
      "\u001b[0;31mValueError\u001b[0m                                Traceback (most recent call last)",
      "Cell \u001b[0;32mIn[28], line 2\u001b[0m\n\u001b[1;32m      1\u001b[0m \u001b[38;5;28;01mimport\u001b[39;00m \u001b[38;5;21;01mmath\u001b[39;00m\n\u001b[0;32m----> 2\u001b[0m num \u001b[38;5;241m=\u001b[39m \u001b[38;5;28;43mint\u001b[39;49m\u001b[43m(\u001b[49m\u001b[38;5;28;43minput\u001b[39;49m\u001b[43m(\u001b[49m\u001b[38;5;124;43m\"\u001b[39;49m\u001b[38;5;124;43mEnter any negative number: \u001b[39;49m\u001b[38;5;124;43m\"\u001b[39;49m\u001b[43m)\u001b[49m\u001b[43m)\u001b[49m\n\u001b[1;32m      3\u001b[0m \u001b[38;5;28mprint\u001b[39m(math\u001b[38;5;241m.\u001b[39msqrt(num))\n",
      "\u001b[0;31mValueError\u001b[0m: invalid literal for int() with base 10: '-1.0'"
     ]
    }
   ],
   "source": [
    "import math\n",
    "num = int(input(\"Enter any negative number: \"))\n",
    "print(math.sqrt(num))"
   ]
  },
  {
   "cell_type": "code",
   "execution_count": 32,
   "id": "9c9af5d3",
   "metadata": {},
   "outputs": [
    {
     "ename": "NameError",
     "evalue": "name 'num' is not defined",
     "output_type": "error",
     "traceback": [
      "\u001b[0;31m---------------------------------------------------------------------------\u001b[0m",
      "\u001b[0;31mNameError\u001b[0m                                 Traceback (most recent call last)",
      "Cell \u001b[0;32mIn[32], line 1\u001b[0m\n\u001b[0;32m----> 1\u001b[0m \u001b[38;5;28mprint\u001b[39m(\u001b[43mnum\u001b[49m)\n",
      "\u001b[0;31mNameError\u001b[0m: name 'num' is not defined"
     ]
    }
   ],
   "source": [
    "print(num)"
   ]
  },
  {
   "cell_type": "code",
   "execution_count": 35,
   "id": "25f5c175",
   "metadata": {},
   "outputs": [
    {
     "ename": "FileNotFoundError",
     "evalue": "[Errno 2] No such file or directory: 'Document/currencies.txt'",
     "output_type": "error",
     "traceback": [
      "\u001b[0;31m---------------------------------------------------------------------------\u001b[0m",
      "\u001b[0;31mFileNotFoundError\u001b[0m                         Traceback (most recent call last)",
      "Cell \u001b[0;32mIn[35], line 2\u001b[0m\n\u001b[1;32m      1\u001b[0m path \u001b[38;5;241m=\u001b[39m \u001b[38;5;124m'\u001b[39m\u001b[38;5;124mDocument/currencies.txt\u001b[39m\u001b[38;5;124m'\u001b[39m\n\u001b[0;32m----> 2\u001b[0m \u001b[38;5;28;01mwith\u001b[39;00m \u001b[38;5;28;43mopen\u001b[39;49m\u001b[43m(\u001b[49m\u001b[43mpath\u001b[49m\u001b[43m,\u001b[49m\u001b[43m \u001b[49m\u001b[38;5;124;43m'\u001b[39;49m\u001b[38;5;124;43ma\u001b[39;49m\u001b[38;5;124;43m'\u001b[39;49m\u001b[43m)\u001b[49m \u001b[38;5;28;01mas\u001b[39;00m file:\n\u001b[1;32m      3\u001b[0m     contents \u001b[38;5;241m=\u001b[39m file\u001b[38;5;241m.\u001b[39mread()\n\u001b[1;32m      4\u001b[0m     \u001b[38;5;28mprint\u001b[39m(contents)\n",
      "File \u001b[0;32m~/anaconda3/lib/python3.10/site-packages/IPython/core/interactiveshell.py:282\u001b[0m, in \u001b[0;36m_modified_open\u001b[0;34m(file, *args, **kwargs)\u001b[0m\n\u001b[1;32m    275\u001b[0m \u001b[38;5;28;01mif\u001b[39;00m file \u001b[38;5;129;01min\u001b[39;00m {\u001b[38;5;241m0\u001b[39m, \u001b[38;5;241m1\u001b[39m, \u001b[38;5;241m2\u001b[39m}:\n\u001b[1;32m    276\u001b[0m     \u001b[38;5;28;01mraise\u001b[39;00m \u001b[38;5;167;01mValueError\u001b[39;00m(\n\u001b[1;32m    277\u001b[0m         \u001b[38;5;124mf\u001b[39m\u001b[38;5;124m\"\u001b[39m\u001b[38;5;124mIPython won\u001b[39m\u001b[38;5;124m'\u001b[39m\u001b[38;5;124mt let you open fd=\u001b[39m\u001b[38;5;132;01m{\u001b[39;00mfile\u001b[38;5;132;01m}\u001b[39;00m\u001b[38;5;124m by default \u001b[39m\u001b[38;5;124m\"\u001b[39m\n\u001b[1;32m    278\u001b[0m         \u001b[38;5;124m\"\u001b[39m\u001b[38;5;124mas it is likely to crash IPython. If you know what you are doing, \u001b[39m\u001b[38;5;124m\"\u001b[39m\n\u001b[1;32m    279\u001b[0m         \u001b[38;5;124m\"\u001b[39m\u001b[38;5;124myou can use builtins\u001b[39m\u001b[38;5;124m'\u001b[39m\u001b[38;5;124m open.\u001b[39m\u001b[38;5;124m\"\u001b[39m\n\u001b[1;32m    280\u001b[0m     )\n\u001b[0;32m--> 282\u001b[0m \u001b[38;5;28;01mreturn\u001b[39;00m \u001b[43mio_open\u001b[49m\u001b[43m(\u001b[49m\u001b[43mfile\u001b[49m\u001b[43m,\u001b[49m\u001b[43m \u001b[49m\u001b[38;5;241;43m*\u001b[39;49m\u001b[43margs\u001b[49m\u001b[43m,\u001b[49m\u001b[43m \u001b[49m\u001b[38;5;241;43m*\u001b[39;49m\u001b[38;5;241;43m*\u001b[39;49m\u001b[43mkwargs\u001b[49m\u001b[43m)\u001b[49m\n",
      "\u001b[0;31mFileNotFoundError\u001b[0m: [Errno 2] No such file or directory: 'Document/currencies.txt'"
     ]
    }
   ],
   "source": [
    "path = 'Document/currencies.txt'\n",
    "with open(path, 'a') as file:\n",
    "    contents = file.read()\n",
    "    print(contents)"
   ]
  },
  {
   "cell_type": "markdown",
   "id": "8b8c0417",
   "metadata": {},
   "source": [
    "# Question 10\n",
    "Encryption is the process of hiding the meaning of a text by substituting letters in the message with other letters, according to some system. If the process is successful, no one but the intended recipient can understand the encrypted message. Cryptanalysis refers to attempts to undo the encryption, even if some details of the encryption are unknown (for example, if an encrypted message has been intercepted). The first step of cryptanalysis is often to build up a table of letter frequencies in the encrypted text. Assume that the string letters is already defined as 'abcdefghijklmnopqrstuvwxyz'. Write a function called frequencies() that takes a string as its only parameter, and returns a list of integers, showing the number of times each character appears in the text. Your function may ignore any characters that are not in letters.\n",
    ">>> frequencies('The quick red fox got bored and went home.') \n",
    "[1, 1, 1, 3, 5, 1, 1, 2, 1, 0, 1, 0, 1, 2, 4, 0, 1, 2, 0, 2, 1, 0, 1, 1, 0, 0]\n",
    ">>> frequencies('apple')"
   ]
  },
  {
   "cell_type": "code",
   "execution_count": 39,
   "id": "bc04ceea",
   "metadata": {},
   "outputs": [
    {
     "name": "stdout",
     "output_type": "stream",
     "text": [
      "Enter your String:The quick red fox got bored and went home.\n",
      "dict_values([1, 1, 1, 3, 5, 1, 1, 2, 1, 0, 1, 0, 1, 2, 4, 0, 1, 2, 0, 3, 1, 0, 1, 1, 0, 0])\n"
     ]
    }
   ],
   "source": [
    "def frequencies(text):\n",
    "    alphabet = {'a':0,'b':0,'c':0,'d':0,'e':0,'f':0,'g':0,'h':0,'i':0,'j':0,'k':0,'l':0,'m':0,'n':0,'o':0,'p':0,'q':0,'r':0,'s':0,'t':0,'u':0,'v':0,'w':0,'x':0,'y':0,'z':0}\n",
    "    lower_text = text.lower()\n",
    "    for ch in lower_text:\n",
    "        if ch in alphabet:\n",
    "            alphabet[ch] +=1\n",
    "    return alphabet\n",
    "\n",
    "encrypted_text = str(input(\"Enter your String:\"))\n",
    "result = frequencies(encrypted_text)\n",
    "values = result.values()\n",
    "print(values) "
   ]
  },
  {
   "cell_type": "code",
   "execution_count": null,
   "id": "59e4d316",
   "metadata": {},
   "outputs": [],
   "source": []
  }
 ],
 "metadata": {
  "kernelspec": {
   "display_name": "Python 3 (ipykernel)",
   "language": "python",
   "name": "python3"
  },
  "language_info": {
   "codemirror_mode": {
    "name": "ipython",
    "version": 3
   },
   "file_extension": ".py",
   "mimetype": "text/x-python",
   "name": "python",
   "nbconvert_exporter": "python",
   "pygments_lexer": "ipython3",
   "version": "3.10.9"
  }
 },
 "nbformat": 4,
 "nbformat_minor": 5
}
